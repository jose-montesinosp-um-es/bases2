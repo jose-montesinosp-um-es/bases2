{
  "cells": [
    {
      "cell_type": "markdown",
      "id": "27e64aad",
      "metadata": {
        "id": "27e64aad"
      },
      "source": [
        "## NoSQL (MongoDB) (sesión 2)\n"
      ]
    },
    {
      "cell_type": "markdown",
      "id": "7b5634b8",
      "metadata": {
        "id": "7b5634b8"
      },
      "source": [
        "## Introducción"
      ]
    },
    {
      "cell_type": "markdown",
      "id": "b2beb89f",
      "metadata": {
        "id": "b2beb89f"
      },
      "source": [
        "![MongoDB](https://webassets.mongodb.com/_com_assets/cms/MongoDB_Logo_FullColorBlack_RGB-4td3yuxzjs.png)\n",
        "\n",
        "Esta hoja muestra cómo acceder a bases de datos MongoDB y también a conectar la salida con Jupyter. Se puede utilizar el *shell* propio de MongoDB en el contenedor usando el programa `mongo`. La diferencia es que ese programa espera código Javascript y aquí trabajaremos con Python."
      ]
    },
    {
      "cell_type": "code",
      "execution_count": null,
      "id": "86074c6d",
      "metadata": {
        "id": "86074c6d"
      },
      "outputs": [],
      "source": [
        "RunningInCOLAB: bool = 'google.colab' in str(get_ipython()) if hasattr(__builtins__,'__IPYTHON__') else False"
      ]
    },
    {
      "cell_type": "code",
      "execution_count": null,
      "id": "19639718",
      "metadata": {
        "id": "19639718"
      },
      "outputs": [],
      "source": [
        "if not RunningInCOLAB:\n",
        "    !sudo apt-get update -qq\n",
        "    !sudo apt-get install -y -qq gpg p7zip"
      ]
    },
    {
      "cell_type": "markdown",
      "id": "fa0936ca",
      "metadata": {
        "id": "fa0936ca"
      },
      "source": [
        "## Instalación inicial de MongoDB (sólo necesaria en Google Colab)"
      ]
    },
    {
      "cell_type": "code",
      "execution_count": null,
      "id": "47898c50",
      "metadata": {
        "id": "47898c50"
      },
      "outputs": [],
      "source": [
        "if RunningInCOLAB:\n",
        "  !wget -q https://raw.githubusercontent.com/dsevilla/bdge/refs/heads/24-25/addendum/mongo-utils/run-mongo-local.sh\n",
        "  !bash run-mongo-local.sh"
      ]
    },
    {
      "cell_type": "markdown",
      "id": "af054a6d",
      "metadata": {
        "id": "af054a6d"
      },
      "source": [
        "## Descarga de los datos en formato CSV"
      ]
    },
    {
      "cell_type": "markdown",
      "id": "6d8511e3",
      "metadata": {
        "id": "6d8511e3"
      },
      "source": [
        " - Formato: 7zipped\n",
        " - Ficheros:\n",
        "   - **Comments**.csv\n",
        "       - Id\n",
        "       - PostId\n",
        "       - Score\n",
        "       - Text, e.g.: \"@Stu Thompson: Seems possible to me - why not try it?\"\n",
        "       - CreationDate, e.g.:\"2008-09-06T08:07:10.730\"\n",
        "       - UserId\n",
        "   - **Posts**.csv\n",
        "       - Id\n",
        "       - PostTypeId\n",
        "          - 1: Question\n",
        "          - 2: Answer\n",
        "       - ParentID (only present if PostTypeId is 2)\n",
        "       - AcceptedAnswerId (only present if PostTypeId is 1)\n",
        "       - CreationDate\n",
        "       - Score\n",
        "       - ViewCount\n",
        "       - Body\n",
        "       - OwnerUserId\n",
        "       - LastEditorUserId\n",
        "       - LastEditorDisplayName=\"Jeff Atwood\"\n",
        "       - LastEditDate=\"2009-03-05T22:28:34.823\"\n",
        "       - LastActivityDate=\"2009-03-11T12:51:01.480\"\n",
        "       - CommunityOwnedDate=\"2009-03-11T12:51:01.480\"\n",
        "       - ClosedDate=\"2009-03-11T12:51:01.480\"\n",
        "       - Title=\n",
        "       - Tags=\n",
        "       - AnswerCount\n",
        "       - CommentCount\n",
        "       - FavoriteCount\n",
        "   - **Tags**.csv\n",
        "    - Id\n",
        "    - Count\n",
        "    - ExcerptPostId\n",
        "    - TagName\n",
        "    - WikiPostId\n",
        "   - **Users**.csv\n",
        "     - Id\n",
        "     - Reputation\n",
        "     - CreationDate\n",
        "     - DisplayName\n",
        "     - EmailHash\n",
        "     - LastAccessDate\n",
        "     - WebsiteUrl\n",
        "     - Location\n",
        "     - Age\n",
        "     - AboutMe\n",
        "     - Views\n",
        "     - UpVotes\n",
        "     - DownVotes\n",
        "   - **Votes**.csv\n",
        "     - Id\n",
        "     - PostId\n",
        "     - VoteTypeId\n",
        "        - ` 1`: AcceptedByOriginator\n",
        "        - ` 2`: UpMod\n",
        "        - ` 3`: DownMod\n",
        "        - ` 4`: Offensive\n",
        "        - ` 5`: Favorite - if VoteTypeId = 5 UserId will be populated\n",
        "        - ` 6`: Close\n",
        "        - ` 7`: Reopen\n",
        "        - ` 8`: BountyStart\n",
        "        - ` 9`: BountyClose\n",
        "        - `10`: Deletion\n",
        "        - `11`: Undeletion\n",
        "        - `12`: Spam\n",
        "        - `13`: InformModerator\n",
        "     - CreationDate\n",
        "     - UserId (only for VoteTypeId 5)\n",
        "     - BountyAmount (only for VoteTypeId 9)"
      ]
    },
    {
      "cell_type": "code",
      "execution_count": null,
      "id": "623ea825",
      "metadata": {
        "id": "623ea825"
      },
      "outputs": [],
      "source": [
        "!wget https://github.com/dsevilla/bd2-data/raw/main/es.stackoverflow/es.stackoverflow.csv.7z.001 -O - > es.stackoverflow.csv.7z\n",
        "!wget https://github.com/dsevilla/bd2-data/raw/main/es.stackoverflow/es.stackoverflow.csv.7z.002 -O - >> es.stackoverflow.csv.7z"
      ]
    },
    {
      "cell_type": "code",
      "execution_count": null,
      "id": "666c443b",
      "metadata": {
        "id": "666c443b"
      },
      "outputs": [],
      "source": [
        "!7zr x -aoa es.stackoverflow.csv.7z\n",
        "!rm es.stackoverflow.csv.7z"
      ]
    },
    {
      "cell_type": "code",
      "execution_count": null,
      "id": "a40a062e",
      "metadata": {
        "id": "a40a062e"
      },
      "outputs": [],
      "source": [
        "!head Users.csv"
      ]
    },
    {
      "cell_type": "markdown",
      "id": "31ea90d4",
      "metadata": {
        "id": "31ea90d4"
      },
      "source": [
        "## Instalación de la librería `pymongo`"
      ]
    },
    {
      "cell_type": "code",
      "execution_count": null,
      "id": "4a4ffffd",
      "metadata": {
        "id": "4a4ffffd"
      },
      "outputs": [],
      "source": [
        "%pip install pymongo tqdm[notebook] pandas matplotlib"
      ]
    },
    {
      "cell_type": "code",
      "execution_count": null,
      "id": "41f45b53",
      "metadata": {
        "id": "41f45b53"
      },
      "outputs": [],
      "source": [
        "from pprint import pprint as pp\n",
        "import pandas as pd\n",
        "import matplotlib.pyplot as plt\n",
        "import matplotlib\n",
        "\n",
        "%matplotlib inline\n",
        "matplotlib.style.use('ggplot')"
      ]
    },
    {
      "cell_type": "markdown",
      "id": "3b59bfb1",
      "metadata": {
        "id": "3b59bfb1"
      },
      "source": [
        "Usaremos la librería `pymongo` para python. La cargamos a continuación."
      ]
    },
    {
      "cell_type": "code",
      "execution_count": null,
      "id": "17b44d1f",
      "metadata": {
        "id": "17b44d1f"
      },
      "outputs": [],
      "source": [
        "from pymongo import MongoClient"
      ]
    },
    {
      "cell_type": "markdown",
      "id": "8def877b",
      "metadata": {
        "id": "8def877b"
      },
      "source": [
        "## Conexión a la base de datos"
      ]
    },
    {
      "cell_type": "markdown",
      "id": "179da6aa",
      "metadata": {
        "id": "179da6aa"
      },
      "source": [
        "La conexión se inicia con `MongoClient` en el `host` descrito en el fichero `docker-compose.yml` (`mongo`), o bien a `localhost` si lo estamos haciendo en Colab."
      ]
    },
    {
      "cell_type": "code",
      "execution_count": null,
      "id": "8f361cf2",
      "metadata": {
        "id": "8f361cf2"
      },
      "outputs": [],
      "source": [
        "import os\n",
        "db_hostname: str = \"localhost\" if RunningInCOLAB else os.getenv('DB_HOSTNAME', \"mongo\")"
      ]
    },
    {
      "cell_type": "code",
      "execution_count": null,
      "id": "f846d35b",
      "metadata": {
        "id": "f846d35b"
      },
      "outputs": [],
      "source": [
        "from typing import Any\n",
        "\n",
        "client: MongoClient[dict[str, Any]] = MongoClient(db_hostname,27017)\n",
        "client"
      ]
    },
    {
      "cell_type": "code",
      "execution_count": null,
      "id": "89965568",
      "metadata": {
        "id": "89965568"
      },
      "outputs": [],
      "source": [
        "client.list_database_names()"
      ]
    },
    {
      "cell_type": "markdown",
      "id": "7b7c948a",
      "metadata": {
        "id": "7b7c948a"
      },
      "source": [
        "Las bases de datos se crean conforme se nombran. Se puede utilizar la notación punto o la de diccionario. Las colecciones también."
      ]
    },
    {
      "cell_type": "code",
      "execution_count": null,
      "id": "052ea8d4",
      "metadata": {
        "id": "052ea8d4"
      },
      "outputs": [],
      "source": [
        "from pymongo.database import Database\n",
        "\n",
        "db: Database = client.stackoverflow\n",
        "# db: Database = client['stackoverflow'] # (equivalente)\n",
        "db"
      ]
    },
    {
      "cell_type": "markdown",
      "id": "2de35d26",
      "metadata": {
        "id": "2de35d26"
      },
      "source": [
        "## Importación de los ficheros CSV\n",
        "\n",
        "Por ahora creamos una colección diferente para cada uno. Después estudiaremos cómo poder optimizar el acceso usando agregación."
      ]
    },
    {
      "cell_type": "code",
      "execution_count": null,
      "id": "b13a1662",
      "metadata": {
        "id": "b13a1662"
      },
      "outputs": [],
      "source": [
        "import csv\n",
        "import sys\n",
        "from datetime import datetime\n",
        "from pymongo.collection import Collection\n",
        "from typing import Any\n",
        "from collections.abc import Callable, Iterable, Iterator\n",
        "from tqdm.notebook import tqdm\n",
        "\n",
        "def batched(iterable: Iterable, n) -> Iterable:\n",
        "    from itertools import islice\n",
        "    if n < 1:\n",
        "        raise ValueError('n must be at least one')\n",
        "    it: Iterator = iter(iterable)\n",
        "    while batch := tuple(islice(it, n)):\n",
        "        yield batch\n",
        "\n",
        "def csv_to_mongo(file: str, coll: Collection):\n",
        "    \"\"\"\n",
        "    Carga un fichero CSV en Mongo. file especifica el fichero, coll la colección\n",
        "    dentro de la base de datos, y date_cols las columnas que serán interpretadas\n",
        "    como fechas.\n",
        "    \"\"\"\n",
        "    # Convertir todos los elementos que se puedan a números\n",
        "    def to_numeric(d: str) -> str| int | float:\n",
        "        if len(d) == 0:\n",
        "            return ''\n",
        "        if not ((d[0] >= '0' and d[0] <= '9') or d[0] == '-' or d[0] == '+' or d[0]=='.'):\n",
        "            return d\n",
        "        try:\n",
        "            return int(d) if abs(int(d)) <= sys.maxsize else d # Ensure number is inside MongoDB max number range\n",
        "        except ValueError:\n",
        "            try:\n",
        "                return float(d)\n",
        "            except ValueError:\n",
        "                return d\n",
        "\n",
        "    def to_date(d: str) -> datetime | None:\n",
        "        \"\"\"To ISO Date. If this cannot be converted, return NULL (None)\"\"\"\n",
        "        try:\n",
        "            return datetime.strptime(d, \"%Y-%m-%dT%H:%M:%S.%f\")\n",
        "        except ValueError:\n",
        "            return None\n",
        "\n",
        "    coll.drop()\n",
        "\n",
        "    with open(file, encoding='utf-8') as f:\n",
        "        # La llamada csv.reader() crea un iterador sobre un fichero CSV\n",
        "        reader = csv.reader(f, dialect='excel')\n",
        "\n",
        "        # Se leen las columnas. Sus nombres se usarán para crear las diferentes columnas en la familia\n",
        "        columns: list[str] = next(reader)\n",
        "\n",
        "        # Las columnas que contienen 'Date' se interpretan como fechas\n",
        "        func_to_cols: list[Callable[[str], Any]] = list(map(lambda c: to_date if 'date' in c.lower() else to_numeric, columns))\n",
        "\n",
        "        for batch in batched(tqdm(reader, desc='Leyendo e insertando filas...'), 10000):\n",
        "            docs: list[dict[str, str | datetime | float | int | None]] = []\n",
        "            for row in batch:\n",
        "                built_row: list[str | datetime | float | int | None] = [func(e) for (func,e) in zip(func_to_cols, row)]\n",
        "                docs.append(dict(zip(columns, built_row)))\n",
        "            coll.insert_many(docs)\n",
        "\n",
        "        print(\"¡Hecho!\")"
      ]
    },
    {
      "cell_type": "code",
      "execution_count": null,
      "id": "df06af8b",
      "metadata": {
        "id": "df06af8b"
      },
      "outputs": [],
      "source": [
        "csv_to_mongo('Posts.csv',db.posts)"
      ]
    },
    {
      "cell_type": "code",
      "execution_count": null,
      "id": "24775423",
      "metadata": {
        "id": "24775423"
      },
      "outputs": [],
      "source": [
        "csv_to_mongo('Users.csv',db.users)"
      ]
    },
    {
      "cell_type": "code",
      "execution_count": null,
      "id": "9ce27848",
      "metadata": {
        "id": "9ce27848"
      },
      "outputs": [],
      "source": [
        "csv_to_mongo('Votes.csv',db.votes)"
      ]
    },
    {
      "cell_type": "code",
      "execution_count": null,
      "id": "386077cd",
      "metadata": {
        "id": "386077cd"
      },
      "outputs": [],
      "source": [
        "csv_to_mongo('Comments.csv',db.comments)"
      ]
    },
    {
      "cell_type": "code",
      "execution_count": null,
      "id": "d1be0177",
      "metadata": {
        "id": "d1be0177"
      },
      "outputs": [],
      "source": [
        "csv_to_mongo('Tags.csv',db.tags)"
      ]
    },
    {
      "cell_type": "code",
      "execution_count": null,
      "id": "0332aca0",
      "metadata": {
        "id": "0332aca0"
      },
      "outputs": [],
      "source": [
        "posts: Collection[dict[str, Any]] = db.posts\n",
        "posts"
      ]
    },
    {
      "cell_type": "code",
      "execution_count": null,
      "id": "dbd720ea",
      "metadata": {
        "id": "dbd720ea"
      },
      "outputs": [],
      "source": [
        "posts.count_documents({})"
      ]
    },
    {
      "cell_type": "markdown",
      "id": "779c45b7",
      "metadata": {
        "id": "779c45b7"
      },
      "source": [
        "## Framework de Agregación\n",
        "\n",
        "Framework de agregación:\n",
        "- Aquí está la referencia de las diferentes etapas por las que puede pasar un pipeline: https://www.mongodb.com/docs/manual/reference/operator/aggregation-pipeline/.\n",
        "- Y aquí los distintos operadores que se permiten dentro de las etapas: https://docs.mongodb.com/manual/reference/operator/aggregation/.\n",
        "- Y aquí incluso un libro completo con usos prácticos de ejecutar agregación: https://www.practical-mongodb-aggregations.com/.\n",
        "\n",
        "A continuación un vídeo interesante:"
      ]
    },
    {
      "cell_type": "code",
      "execution_count": null,
      "id": "01230651",
      "metadata": {
        "id": "01230651"
      },
      "outputs": [],
      "source": [
        "from IPython.display import YouTubeVideo\n",
        "YouTubeVideo('VSX4a3h4SmQ',width=600)"
      ]
    },
    {
      "cell_type": "markdown",
      "id": "1dd29291",
      "metadata": {
        "id": "1dd29291"
      },
      "source": [
        "Aqui tenemos un esquema con un ejemplo básico de agregación."
      ]
    },
    {
      "cell_type": "markdown",
      "id": "3919d2c8",
      "metadata": {
        "id": "3919d2c8"
      },
      "source": [
        "![](https://miro.medium.com/max/1060/1*2lDBxvZ8Cr3JYkoODTa0lQ.png)"
      ]
    },
    {
      "cell_type": "markdown",
      "id": "266fbef5",
      "metadata": {
        "id": "266fbef5"
      },
      "source": [
        "## Algunos operadores de agregación\n",
        "\n"
      ]
    },
    {
      "cell_type": "markdown",
      "id": "fcf0a275",
      "metadata": {
        "id": "fcf0a275"
      },
      "source": [
        "### `$match`\n",
        "\n",
        "Este operador permite filtrar los documentos que queremos que pasen a la siguiente fase del pipeline definiendo una serie de condiciones sobre los campos de los mismos.\n",
        "\n",
        "Vamos a filtrar aquellos documentos que tengan un `Score` igual o superior (`$gte`) a 150."
      ]
    },
    {
      "cell_type": "code",
      "execution_count": null,
      "id": "a42bf043",
      "metadata": {
        "id": "a42bf043"
      },
      "outputs": [],
      "source": [
        "from pymongo.command_cursor import CommandCursor\n",
        "\n",
        "respuestas: CommandCursor[dict[str, Any]] = posts.aggregate( [\n",
        "        {'$match': { 'Score' : {'$gte': 150}}}\n",
        "])\n",
        "list(respuestas)"
      ]
    },
    {
      "cell_type": "markdown",
      "id": "e15d74e0",
      "metadata": {
        "id": "e15d74e0"
      },
      "source": [
        "### `$project`\n",
        "\n",
        "El operador `$project`permite filtar qué campos de los documentos queremos usar en la siguientes fases de agregación.\n",
        "\n",
        "Generalmente este operador suele combinarse con otros como `$find`, `$match` o `$lookup` en fases más avanzadas de la agregación.\n",
        "\n",
        "En el siguiente ejemplo, realizamos un filtrado en donde solo nos quedamos con el campo `Id` de los posts."
      ]
    },
    {
      "cell_type": "code",
      "execution_count": null,
      "id": "e316146c",
      "metadata": {
        "id": "e316146c"
      },
      "outputs": [],
      "source": [
        "respuestas: CommandCursor[dict[str, Any]] = db['posts'].aggregate( [\n",
        "    {'$project' : { 'Id' : True }},\n",
        "    {'$limit': 20} ])\n",
        "list(respuestas)"
      ]
    },
    {
      "cell_type": "markdown",
      "id": "0d601b07",
      "metadata": {
        "id": "0d601b07"
      },
      "source": [
        "### `$group`\n",
        "\n",
        "La función `$group` se usa dentro del *pipeline* de agregación de documentos seguido por Mongo (`.aggregate`). Esta función admite dos parámetros diferentes:\n",
        "* `_id`: El identificador por el que queremos agrupar los documentos.\n",
        "* `campo`: Expresión mediante la cual queremos aggregar los documentos (*opcional*)."
      ]
    },
    {
      "cell_type": "markdown",
      "id": "14755483",
      "metadata": {
        "id": "14755483"
      },
      "source": [
        "Vamos a contar el número de posts por `OwnerUserId` en la colección `posts`."
      ]
    },
    {
      "cell_type": "code",
      "execution_count": null,
      "id": "c24309d9",
      "metadata": {
        "id": "c24309d9"
      },
      "outputs": [],
      "source": [
        "from pymongo.command_cursor import CommandCursor\n",
        "\n",
        "users_count_scores: CommandCursor[dict[str, Any]] = db.posts.aggregate(\n",
        "    [\n",
        "        {\n",
        "            \"$group\":{\n",
        "                \"_id\": \"$OwnerUserId\",\n",
        "                \"count\": {\"$sum\": 1}\n",
        "            }\n",
        "        },\n",
        "        {\n",
        "            \"$limit\": 10\n",
        "        }\n",
        "    ]\n",
        ")\n",
        "list(users_count_scores)"
      ]
    },
    {
      "cell_type": "markdown",
      "id": "c432027a",
      "metadata": {
        "id": "c432027a"
      },
      "source": [
        "Ahora vamos computar el `score` medio por usuario en base a todos sus posts."
      ]
    },
    {
      "cell_type": "code",
      "execution_count": null,
      "id": "35f2d4c4",
      "metadata": {
        "id": "35f2d4c4"
      },
      "outputs": [],
      "source": [
        "users_avg_scores: CommandCursor[dict[str, Any]] = db.posts.aggregate(\n",
        "    [{\n",
        "        \"$group\":{\n",
        "            \"_id\": \"$OwnerUserId\",\n",
        "            \"avg_score\": {\"$avg\":'$Score'}\n",
        "        }\n",
        "        },\n",
        "        { \"$limit\": 10 }\n",
        "    ]\n",
        ")\n",
        "list (users_avg_scores)"
      ]
    },
    {
      "cell_type": "markdown",
      "id": "d5d9c52d",
      "metadata": {
        "id": "d5d9c52d"
      },
      "source": [
        "### `$lookup`"
      ]
    },
    {
      "cell_type": "markdown",
      "id": "58659605",
      "metadata": {
        "id": "58659605"
      },
      "source": [
        "El operador `$lookup` permite realizar búsquedas en otras colecciones. Podrían interpretarse como un *join* en el modelo relacional. Esta función admite cuatro parámetros diferentes:\n",
        "\n",
        "*   `from`: especifica la colección en la misma base de datos con la que hacer la búsqueda (o el *join*).\n",
        "*   `localField`: Especifica el campo de los documentos de entrada a usar para realizar una comparación de igualdad con el campo `foreignField` de los documentos de la colección `from`.  \n",
        "*   `foreignField`: Especifica el campo de los documentos de la colección `from` a usar en la comparación de igualdad con el `localField`.\n",
        "*   `as`: Especifica el nombre del nuevo campo array que se añadirá a los documentos de entrada. Este nuevo campo contiene los documentos coincidentes de la colección `from`.\n",
        "\n",
        "En el ejemplo siguiente, en primer lugar seleccionamos los posts con un `Score` igual o mayor a 150 con `$match` para a continuación seleccionar los usuarios que han publicado dichos posts incluyéndolo en un nuevo campo llamado `owner`."
      ]
    },
    {
      "cell_type": "code",
      "execution_count": null,
      "id": "bbc62d48",
      "metadata": {
        "id": "bbc62d48",
        "scrolled": true
      },
      "outputs": [],
      "source": [
        "respuestas: CommandCursor[dict[str, Any]] = posts.aggregate( [\n",
        "    {'$match': { 'Score' : {'$gte': 150}}},\n",
        "    {'$lookup': {\n",
        "        'from': \"users\",\n",
        "        'localField': \"OwnerUserId\",\n",
        "        'foreignField': \"Id\",\n",
        "        'as': \"owner\"}\n",
        "    }\n",
        "])\n",
        "list(respuestas)"
      ]
    },
    {
      "cell_type": "markdown",
      "id": "f7a40455",
      "metadata": {
        "id": "f7a40455"
      },
      "source": [
        "### `$arrayElemAt`\n",
        "\n",
        "El `$lookup` genera un _array_ con todos los resultados. El operador `$arrayElementAt` accede al primer elemento."
      ]
    },
    {
      "cell_type": "code",
      "execution_count": null,
      "id": "af1ad0e6",
      "metadata": {
        "id": "af1ad0e6"
      },
      "outputs": [],
      "source": [
        "respuestas: CommandCursor[dict[str, Any]] = db.posts.aggregate( [\n",
        "    {'$match': { 'Score' : {'$gte': 150}}},\n",
        "    {'$lookup': {\n",
        "        'from': \"users\",\n",
        "        'localField': \"OwnerUserId\",\n",
        "        'foreignField': \"Id\",\n",
        "        'as': \"owner\"}\n",
        "    },\n",
        "    { '$project' : {\n",
        "        'Id' : True,\n",
        "        'Score' : True,\n",
        "        'username' : {'$arrayElemAt' : ['$owner.DisplayName', 0]},\n",
        "        'owner.DisplayName' : True\n",
        "      }}\n",
        "    ])\n",
        "list(respuestas)"
      ]
    },
    {
      "cell_type": "markdown",
      "id": "40c94ce6",
      "metadata": {
        "id": "40c94ce6"
      },
      "source": [
        "### `$unwind`\n",
        "\n",
        "Este operador *desdobla* cada fila por cada elemento del array.\n",
        "\n",
        "Ej: El siguiente código:\n",
        "\n",
        "```python\n",
        "db.inventario.insert_one({ \"_id\" : 1, \"item\" : \"ABC1\", \"tallas\": [ \"S\", \"M\", \"L\"] })\n",
        "db.inventario.aggregate( [ { \"$unwind\" : \"$tallas\" } ] )\n",
        "```\n",
        "\n",
        "Devolverá:\n",
        "\n",
        "```json\n",
        "{ \"_id\" : 1, \"item\" : \"ABC1\", \"tallas\" : \"S\" }\n",
        "{ \"_id\" : 1, \"item\" : \"ABC1\", \"tallas\" : \"M\" }\n",
        "{ \"_id\" : 1, \"item\" : \"ABC1\", \"tallas\" : \"L\" }\n",
        "```\n",
        "\n",
        "En el ejemplo de procesamiento de posts que estamos llevando a cabo, como sabemos que el array `$owner` sólo contiene un elemento, sólo habrá una fila por fila original, pero sin el _array_. Finalmente se puede proyectar el campo que se quiera. En este caso el `ownerDisplayName` que es proyectado (renombrado) como `username`."
      ]
    },
    {
      "cell_type": "code",
      "execution_count": null,
      "id": "f22b483c",
      "metadata": {
        "id": "f22b483c"
      },
      "outputs": [],
      "source": [
        "respuestas: CommandCursor[dict[str, Any]] = db.posts.aggregate( [\n",
        "    { '$match': { 'Score' : {'$gte': 150}}},\n",
        "    { '$lookup': {\n",
        "        'from': \"users\",\n",
        "        'localField': \"OwnerUserId\",\n",
        "        'foreignField': \"Id\",\n",
        "        'as': \"owner\"\n",
        "      }\n",
        "    },\n",
        "    { '$unwind': '$owner'},\n",
        "    { '$project' : {\n",
        "          'username': '$owner.DisplayName'\n",
        "      }\n",
        "    }\n",
        "    ])\n",
        "list(respuestas)"
      ]
    },
    {
      "cell_type": "markdown",
      "id": "9619a5b5",
      "metadata": {
        "id": "9619a5b5"
      },
      "source": [
        "### `$push`\n",
        "\n",
        "Devuelve un array con *todos* los valores que resultan de aplicar una determinada expresión a los documentos que forman parte del pipeline.\n",
        "\n",
        "Obtener el listado con el identificador de `Posts` (`Id`) asociados a cada valor de `Score`."
      ]
    },
    {
      "cell_type": "code",
      "execution_count": null,
      "id": "5c6ce7a2",
      "metadata": {
        "id": "5c6ce7a2"
      },
      "outputs": [],
      "source": [
        "posts_by_score: CommandCursor[dict[str, Any]] = db.posts.aggregate([\n",
        "    { '$limit': 2000 },\n",
        "    {\n",
        "        '$group':{\n",
        "            '_id': '$Score',\n",
        "            'posts':{\n",
        "                '$push': {\n",
        "                    'post': '$Id'\n",
        "                }\n",
        "            }\n",
        "        }\n",
        "    }\n",
        "\n",
        "])\n",
        "list(posts_by_score)"
      ]
    },
    {
      "cell_type": "markdown",
      "id": "37da8780",
      "metadata": {
        "id": "37da8780"
      },
      "source": [
        "### `$addToSet`\n",
        "\n",
        " Devuelve un array de todos los valores únicos que resultan de aplicar una expresión a cada documento de un grupo.\n",
        "\n",
        "\n",
        "Vamos a obtener el listado de `Tags` asociadas a cada tipo de licencia  `ContentLicense`."
      ]
    },
    {
      "cell_type": "code",
      "execution_count": null,
      "id": "d9d1f789",
      "metadata": {
        "id": "d9d1f789"
      },
      "outputs": [],
      "source": [
        "license_and_tags: CommandCursor[dict[str, Any]] = db.posts.aggregate([\n",
        "    { \"$match\" : {\"PostTypeId\": 1}},\n",
        "    {\"$limit\": 1000},\n",
        "\n",
        "    {'$group':{\n",
        "            '_id':'$ContentLicense',\n",
        "            'AllTags': { '$addToSet': \"$Tags\" }\n",
        "        }\n",
        "    }\n",
        "])\n",
        "list(license_and_tags)"
      ]
    },
    {
      "cell_type": "markdown",
      "id": "259355aa",
      "metadata": {
        "id": "259355aa"
      },
      "source": [
        "### `$out`\n",
        "\n",
        "Este comando permite volcar el resultado de un pipeline de agregación en una nueva colección en la base de datos."
      ]
    },
    {
      "cell_type": "code",
      "execution_count": null,
      "id": "ba995e75",
      "metadata": {
        "id": "ba995e75"
      },
      "outputs": [],
      "source": [
        "respuestas: CommandCursor[dict[str, Any]] = db.posts.aggregate( [\n",
        "        { '$match': { 'Score' : {'$gte': 40}}},\n",
        "        { '$lookup': {\n",
        "            'from': \"users\",\n",
        "            'localField': \"OwnerUserId\",\n",
        "            'foreignField': \"Id\",\n",
        "            'as': \"owner\"\n",
        "          }\n",
        "        },\n",
        "        { '$unwind': '$owner'},\n",
        "        { '$project' : {\n",
        "             'username': '$owner.DisplayName'\n",
        "          }\n",
        "        },\n",
        "        {'$out': \"stackoverflow_users\"}\n",
        "      ])"
      ]
    },
    {
      "cell_type": "markdown",
      "id": "0fdf2f52",
      "metadata": {
        "id": "0fdf2f52"
      },
      "source": [
        "Un documento de ejemplo de la colección generada `stackoverflow_users`:"
      ]
    },
    {
      "cell_type": "code",
      "execution_count": null,
      "id": "cfb1b3da",
      "metadata": {
        "id": "cfb1b3da"
      },
      "outputs": [],
      "source": [
        "pp(db.stackoverflow_users.find_one())"
      ]
    },
    {
      "cell_type": "code",
      "execution_count": null,
      "id": "2ce1bc1a",
      "metadata": {
        "id": "2ce1bc1a"
      },
      "outputs": [],
      "source": [
        "db.stackoverflow_users.count_documents({})"
      ]
    },
    {
      "cell_type": "markdown",
      "id": "39518553",
      "metadata": {
        "id": "39518553"
      },
      "source": [
        "## Ejemplos básicos de agregación"
      ]
    },
    {
      "cell_type": "markdown",
      "id": "fe6e23a6",
      "metadata": {
        "id": "fe6e23a6"
      },
      "source": [
        "### Ejemplo 1: Asociación usuarios con Tags\n",
        "\n",
        "Con Agregación, vamos a construir una colección que asocia un usuario con los tags que ha usado en todas sus preguntas.\n",
        "\n",
        "*Por cuestiones de rendimiento vamos a limitar la agregación a 500 elementos.*"
      ]
    },
    {
      "cell_type": "code",
      "execution_count": null,
      "id": "9235f0be",
      "metadata": {
        "id": "9235f0be"
      },
      "outputs": [],
      "source": [
        "user_tags: CommandCursor[dict[str, Any]] = db.posts.aggregate([\n",
        "        { \"$match\" : {\"PostTypeId\": 1}},\n",
        "\n",
        "        {\"$limit\": 500},\n",
        "\n",
        "        { '$lookup': {\n",
        "            'from': \"users\",\n",
        "            'localField': \"OwnerUserId\",\n",
        "            'foreignField': \"Id\",\n",
        "            'as': \"owner\"\n",
        "          }\n",
        "        },\n",
        "\n",
        "        {'$project':{\n",
        "            'Tags': True,\n",
        "            'userid' : {'$arrayElemAt' : ['$owner.Id', 0]},\n",
        "        }},\n",
        "\n",
        "        {'$group':{\n",
        "            '_id':'$userid',\n",
        "            'AllTags': { '$addToSet': \"$Tags\" }\n",
        "        }}\n",
        "]\n",
        ")\n",
        "\n",
        "user_tags_lst = list(user_tags)\n",
        "user_tags_lst"
      ]
    },
    {
      "cell_type": "markdown",
      "id": "1785f890",
      "metadata": {
        "id": "1785f890"
      },
      "source": [
        "### Ejemplo 2: Asociación Tags con usuarios\n",
        "\n",
        "Ahora, dado un ID de tag, qué usuarios han hecho preguntas de ese tag.\n",
        "\n",
        "*De nuevo limitamos la búsqueda a 500 documentos*"
      ]
    },
    {
      "cell_type": "code",
      "execution_count": null,
      "id": "46b669c2",
      "metadata": {
        "id": "46b669c2"
      },
      "outputs": [],
      "source": [
        "tags_users: CommandCursor[dict[str, Any]] = db.posts.aggregate( [\n",
        "        { \"$match\" : {\"PostTypeId\": 1}},\n",
        "\n",
        "        {\"$limit\": 500},\n",
        "\n",
        "        { '$lookup': {\n",
        "            'from': \"users\",\n",
        "            'localField': \"OwnerUserId\",\n",
        "            'foreignField': \"Id\",\n",
        "            'as': \"owner\"\n",
        "          }\n",
        "        },\n",
        "\n",
        "        {'$project':{\n",
        "            'Tags': True,\n",
        "            'userid' : {'$arrayElemAt' : ['$owner.Id', 0]},\n",
        "        }},\n",
        "\n",
        "        {'$group':{\n",
        "            '_id':'$Tags',\n",
        "            'AllUsers': { '$addToSet': \"$userid\" }\n",
        "        }}\n",
        "    ])\n",
        "\n",
        "tags_users_lst = list(tags_users)\n",
        "tags_users_lst"
      ]
    },
    {
      "cell_type": "markdown",
      "id": "9ef44583",
      "metadata": {
        "id": "9ef44583"
      },
      "source": [
        "## Ejercicios"
      ]
    },
    {
      "cell_type": "markdown",
      "id": "5baec009",
      "metadata": {
        "id": "5baec009"
      },
      "source": [
        "### EJ1: Obtener el resultado de documentos *verbosos* en donde se indique el texto `Body` de una pregunta así como el nombre del usuario que la formuló (`DisplayName`)"
      ]
    },
    {
      "cell_type": "code",
      "source": [
        "verbose_posts: CommandCursor[dict[str, Any]] = db.posts.aggregate([\n",
        "    { \"$match\" : {\"PostTypeId\": 1}},\n",
        "    { \"$limit\": 1000},\n",
        "    { '$lookup': {\n",
        "        'from': \"users\",\n",
        "        'localField': \"OwnerUserId\",\n",
        "        'foreignField': \"Id\",\n",
        "        'as': \"owner\"\n",
        "      }\n",
        "    },\n",
        "    { '$project': {\n",
        "        '_id': False,\n",
        "        'Body': True,\n",
        "        'username': {'$arrayElemAt' : ['$owner.DisplayName', 0]}\n",
        "      }\n",
        "    },\n",
        "])\n",
        "\n",
        "list(verbose_posts)"
      ],
      "metadata": {
        "id": "Euz6orzNh-K_"
      },
      "id": "Euz6orzNh-K_",
      "execution_count": null,
      "outputs": []
    },
    {
      "cell_type": "markdown",
      "id": "9b412eff",
      "metadata": {
        "id": "9b412eff"
      },
      "source": [
        "### EJ2: Obtener las respuestas escritas en Enero de 2022 con un `Score` superior a 3"
      ]
    },
    {
      "cell_type": "code",
      "source": [
        "start = datetime(2022, 1, 1)\n",
        "end = datetime(2022, 1, 31)\n",
        "\n",
        "respuestas_Enero_2022: CommandCursor[dict[str, Any]] = db.posts.aggregate( [\n",
        "        { '$match': {\n",
        "            'PostTypeId' : 2,\n",
        "            'Score' : {'$gte': 3},\n",
        "            'CreationDate': {'$gte': start, '$lte': end}\n",
        "        }},\n",
        "        { '$limit': 5}\n",
        "      ])\n",
        "\n",
        "list(respuestas_Enero_2022)"
      ],
      "metadata": {
        "id": "BiFC7-TFiFWD"
      },
      "id": "BiFC7-TFiFWD",
      "execution_count": null,
      "outputs": []
    },
    {
      "cell_type": "code",
      "execution_count": null,
      "id": "06e96bcf",
      "metadata": {
        "id": "06e96bcf"
      },
      "outputs": [],
      "source": [
        "print(\"Eso es todo amigos!\")"
      ]
    }
  ],
  "metadata": {
    "colab": {
      "provenance": []
    },
    "kernelspec": {
      "display_name": ".venv",
      "language": "python",
      "name": "python3"
    },
    "language_info": {
      "codemirror_mode": {
        "name": "ipython",
        "version": 3
      },
      "file_extension": ".py",
      "mimetype": "text/x-python",
      "name": "python",
      "nbconvert_exporter": "python",
      "pygments_lexer": "ipython3",
      "version": "3.13.1"
    }
  },
  "nbformat": 4,
  "nbformat_minor": 5
}