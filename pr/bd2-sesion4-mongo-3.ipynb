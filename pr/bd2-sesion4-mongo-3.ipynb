{
  "cells": [
    {
      "cell_type": "markdown",
      "id": "43b1665b",
      "metadata": {
        "id": "43b1665b"
      },
      "source": [
        "# Bases de Datos II. NoSQL MongoDB 3 (sesión 4)\n",
        "\n",
        "```\n",
        "                                                                  ,gggggggggggg,    ,ggggggggggg,  \n",
        "                                                                 dP\"\"\"88\"\"\"\"\"\"Y8b, dP\"\"\"88\"\"\"\"\"\"Y8,\n",
        "                                                                 Yb,  88       `8b,Yb,  88      `8b\n",
        "                                                                  `\"  88        `8b `\"  88      ,8P\n",
        "                                                                      88         Y8     88aaaad8P\"\n",
        "  ,ggg,,ggg,,ggg,     ,ggggg,    ,ggg,,ggg,     ,gggg,gg    ,ggggg,   88         d8     88\"\"\"\"Y8ba\n",
        " ,8\" \"8P\" \"8P\" \"8,   dP\"  \"Y8ggg,8\" \"8P\" \"8,   dP\"  \"Y8I   dP\"  \"Y8ggg88        ,8P     88      `8b\n",
        " I8   8I   8I   8I  i8'    ,8I  I8   8I   8I  i8'    ,8I  i8'    ,8I  88       ,8P'     88      ,8P\n",
        ",dP   8I   8I   Yb,,d8,   ,d8' ,dP   8I   Yb,,d8,   ,d8I ,d8,   ,d8'  88______,dP'      88_____,d8'\n",
        "8P'   8I   8I   `Y8P\"Y8888P\"   8P'   8I   `Y8P\"Y8888P\"888P\"Y8888P\"   888888888P\"       88888888P\"  \n",
        "                                                    ,d8I'                                          \n",
        "                                                  ,dP'8I                                           \n",
        "                                                 ,8\"  8I                                           \n",
        "                                                 I8   8I                                           \n",
        "                                                 `8, ,8I                                           \n",
        "                                                  `Y8P\"                             \n",
        "                                                  \n",
        "                                                                 \n",
        "                                             ______\n",
        "|_  _  _  _  _     _| _     _| _ _|_ _  _     |  |\n",
        "|_)(_|_> (/__>    (_|(/_   (_|(_| |_(_)_>    _|__|_\n",
        "```\n"
      ]
    },
    {
      "cell_type": "markdown",
      "id": "a0af0c0f",
      "metadata": {
        "id": "a0af0c0f"
      },
      "source": [
        "![MongoDB](https://webassets.mongodb.com/_com_assets/cms/MongoDB_Logo_FullColorBlack_RGB-4td3yuxzjs.png)\n",
        "\n",
        "Esta hoja es la tercera entrega y última del trabajo con MongoDB. Veremos temas avanzados como cálculos `aggregate()` más complejos, el uso de índices, etc. Al final habrá un conjunto de ejercicios que habrá que resolver y entregar en la tarea abierta para la ocasión."
      ]
    },
    {
      "cell_type": "markdown",
      "id": "705ebfbd",
      "metadata": {
        "id": "705ebfbd"
      },
      "source": [
        "## Inicio de la hoja\n"
      ]
    },
    {
      "cell_type": "code",
      "execution_count": 1,
      "id": "f09508b6",
      "metadata": {
        "id": "f09508b6"
      },
      "outputs": [],
      "source": [
        "RunningInCOLAB: bool = 'google.colab' in str(get_ipython()) if hasattr(__builtins__,'__IPYTHON__') else False"
      ]
    },
    {
      "cell_type": "code",
      "execution_count": 2,
      "id": "908d723d",
      "metadata": {
        "id": "908d723d",
        "outputId": "7c21ec27-f5b2-4cfd-c2bb-63e030ebb31f",
        "colab": {
          "base_uri": "https://localhost:8080/"
        }
      },
      "outputs": [
        {
          "output_type": "stream",
          "name": "stdout",
          "text": [
            "W: Skipping acquire of configured file 'main/source/Sources' as repository 'https://r2u.stat.illinois.edu/ubuntu jammy InRelease' does not seem to provide it (sources.list entry misspelt?)\n"
          ]
        }
      ],
      "source": [
        "!sudo apt-get update -qq\n",
        "!sudo apt-get install -y -qq gpg p7zip"
      ]
    },
    {
      "cell_type": "markdown",
      "id": "29754b71",
      "metadata": {
        "id": "29754b71"
      },
      "source": [
        "## Instalación inicial de MongoDB (sólo necesaria en Google Colab)"
      ]
    },
    {
      "cell_type": "code",
      "execution_count": null,
      "id": "a4f4cb85",
      "metadata": {
        "id": "a4f4cb85",
        "outputId": "9b0683b6-64f8-45a9-eb7b-101cbd718eec",
        "colab": {
          "base_uri": "https://localhost:8080/"
        }
      },
      "outputs": [
        {
          "output_type": "stream",
          "name": "stdout",
          "text": [
            "Adding system user `mongodb' (UID 104) ...\n",
            "Adding new user `mongodb' (UID 104) with group `nogroup' ...\n",
            "Not creating home directory `/home/mongodb'.\n",
            "Adding group `mongodb' (GID 107) ...\n",
            "Done.\n",
            "Adding user `mongodb' to group `mongodb' ...\n",
            "Adding user mongodb to group mongodb\n",
            "Done.\n",
            "deb [ arch=amd64,arm64 ] https://repo.mongodb.org/apt/ubuntu jammy/mongodb-org/8.0 multiverse\n",
            "W: Skipping acquire of configured file 'main/source/Sources' as repository 'https://r2u.stat.illinois.edu/ubuntu jammy InRelease' does not seem to provide it (sources.list entry misspelt?)\n",
            "debconf: unable to initialize frontend: Dialog\n",
            "debconf: (No usable dialog-like program is installed, so the dialog based frontend cannot be used. at /usr/share/perl5/Debconf/FrontEnd/Dialog.pm line 78, <> line 10.)\n",
            "debconf: falling back to frontend: Readline\n",
            "debconf: unable to initialize frontend: Readline\n",
            "debconf: (This frontend requires a controlling tty.)\n",
            "debconf: falling back to frontend: Teletype\n",
            "dpkg-preconfigure: unable to re-open stdin: \n",
            "Selecting previously unselected package dialog.\n",
            "(Reading database ... 124947 files and directories currently installed.)\n",
            "Preparing to unpack .../0-dialog_1.3-20211214-1_amd64.deb ...\n",
            "Unpacking dialog (1.3-20211214-1) ...\n",
            "Selecting previously unselected package mongodb-database-tools.\n",
            "Preparing to unpack .../1-mongodb-database-tools_100.11.0_amd64.deb ...\n",
            "Unpacking mongodb-database-tools (100.11.0) ...\n",
            "Selecting previously unselected package mongodb-mongosh.\n",
            "Preparing to unpack .../2-mongodb-mongosh_2.4.0_amd64.deb ...\n",
            "Unpacking mongodb-mongosh (2.4.0) ...\n"
          ]
        }
      ],
      "source": [
        "if RunningInCOLAB:\n",
        "  !wget -q https://raw.githubusercontent.com/dsevilla/bdge/refs/heads/24-25/addendum/mongo-utils/run-mongo-local.sh\n",
        "  !bash run-mongo-local.sh"
      ]
    },
    {
      "cell_type": "markdown",
      "id": "5c90019c",
      "metadata": {
        "id": "5c90019c"
      },
      "source": [
        "## Descarga de los datos en formato CSV"
      ]
    },
    {
      "cell_type": "markdown",
      "id": "6f6e6833",
      "metadata": {
        "id": "6f6e6833"
      },
      "source": [
        " - Formato: 7zipped\n",
        " - Ficheros:\n",
        "   - **Comments**.csv\n",
        "       - Id\n",
        "       - PostId\n",
        "       - Score\n",
        "       - Text, e.g.: \"@Stu Thompson: Seems possible to me - why not try it?\"\n",
        "       - CreationDate, e.g.:\"2008-09-06T08:07:10.730\"\n",
        "       - UserId\n",
        "   - **Posts**.csv\n",
        "       - Id\n",
        "       - PostTypeId\n",
        "          - 1: Question\n",
        "          - 2: Answer\n",
        "       - ParentID (only present if PostTypeId is 2)\n",
        "       - AcceptedAnswerId (only present if PostTypeId is 1)\n",
        "       - CreationDate\n",
        "       - Score\n",
        "       - ViewCount\n",
        "       - Body\n",
        "       - OwnerUserId\n",
        "       - LastEditorUserId\n",
        "       - LastEditorDisplayName=\"Jeff Atwood\"\n",
        "       - LastEditDate=\"2009-03-05T22:28:34.823\"\n",
        "       - LastActivityDate=\"2009-03-11T12:51:01.480\"\n",
        "       - CommunityOwnedDate=\"2009-03-11T12:51:01.480\"\n",
        "       - ClosedDate=\"2009-03-11T12:51:01.480\"\n",
        "       - Title=\n",
        "       - Tags=\n",
        "       - AnswerCount\n",
        "       - CommentCount\n",
        "       - FavoriteCount\n",
        "   - **Tags**.csv\n",
        "    - Id\n",
        "    - Count\n",
        "    - ExcerptPostId\n",
        "    - TagName\n",
        "    - WikiPostId\n",
        "   - **Users**.csv\n",
        "     - Id\n",
        "     - Reputation\n",
        "     - CreationDate\n",
        "     - DisplayName\n",
        "     - EmailHash\n",
        "     - LastAccessDate\n",
        "     - WebsiteUrl\n",
        "     - Location\n",
        "     - Age\n",
        "     - AboutMe\n",
        "     - Views\n",
        "     - UpVotes\n",
        "     - DownVotes\n",
        "   - **Votes**.csv\n",
        "     - Id\n",
        "     - PostId\n",
        "     - VoteTypeId\n",
        "        - ` 1`: AcceptedByOriginator\n",
        "        - ` 2`: UpMod\n",
        "        - ` 3`: DownMod\n",
        "        - ` 4`: Offensive\n",
        "        - ` 5`: Favorite - if VoteTypeId = 5 UserId will be populated\n",
        "        - ` 6`: Close\n",
        "        - ` 7`: Reopen\n",
        "        - ` 8`: BountyStart\n",
        "        - ` 9`: BountyClose\n",
        "        - `10`: Deletion\n",
        "        - `11`: Undeletion\n",
        "        - `12`: Spam\n",
        "        - `13`: InformModerator\n",
        "     - CreationDate\n",
        "     - UserId (only for VoteTypeId 5)\n",
        "     - BountyAmount (only for VoteTypeId 9)"
      ]
    },
    {
      "cell_type": "code",
      "execution_count": null,
      "id": "e25d4062",
      "metadata": {
        "id": "e25d4062"
      },
      "outputs": [],
      "source": [
        "!wget https://github.com/dsevilla/bd2-data/raw/main/es.stackoverflow/es.stackoverflow.csv.7z.001 -O - > es.stackoverflow.csv.7z\n",
        "!wget https://github.com/dsevilla/bd2-data/raw/main/es.stackoverflow/es.stackoverflow.csv.7z.002 -O - >> es.stackoverflow.csv.7z"
      ]
    },
    {
      "cell_type": "code",
      "execution_count": null,
      "id": "3881c57d",
      "metadata": {
        "id": "3881c57d"
      },
      "outputs": [],
      "source": [
        "!7zr x es.stackoverflow.csv.7z\n",
        "!rm es.stackoverflow.csv.7z"
      ]
    },
    {
      "cell_type": "code",
      "execution_count": null,
      "id": "c8af7c52",
      "metadata": {
        "id": "c8af7c52"
      },
      "outputs": [],
      "source": [
        "!head Users.csv"
      ]
    },
    {
      "cell_type": "markdown",
      "id": "af2319bf",
      "metadata": {
        "id": "af2319bf"
      },
      "source": [
        "## Instalación de la librería `pymongo`"
      ]
    },
    {
      "cell_type": "code",
      "execution_count": null,
      "id": "7300c25b",
      "metadata": {
        "id": "7300c25b"
      },
      "outputs": [],
      "source": [
        "%pip install --upgrade pymongo tqdm pandas matplotlib"
      ]
    },
    {
      "cell_type": "code",
      "execution_count": null,
      "id": "0ff4f971",
      "metadata": {
        "id": "0ff4f971"
      },
      "outputs": [],
      "source": [
        "from pprint import pprint as pp\n",
        "import pandas as pd\n",
        "import matplotlib.pyplot as plt\n",
        "import matplotlib\n",
        "\n",
        "%matplotlib inline\n",
        "matplotlib.style.use('ggplot')"
      ]
    },
    {
      "cell_type": "markdown",
      "id": "86e1c0b7",
      "metadata": {
        "id": "86e1c0b7"
      },
      "source": [
        "Usaremos la librería `pymongo` para python. La cargamos a continuación."
      ]
    },
    {
      "cell_type": "code",
      "execution_count": null,
      "id": "0548b36b",
      "metadata": {
        "id": "0548b36b"
      },
      "outputs": [],
      "source": [
        "from pymongo import MongoClient"
      ]
    },
    {
      "cell_type": "markdown",
      "id": "af77f1a6",
      "metadata": {
        "id": "af77f1a6"
      },
      "source": [
        "## Conexión a la base de datos"
      ]
    },
    {
      "cell_type": "markdown",
      "id": "2de3a6a9",
      "metadata": {
        "id": "2de3a6a9"
      },
      "source": [
        "La conexión se inicia con `MongoClient` en el `host` descrito en el fichero `docker-compose.yml` (`mongo`), o bien a `localhost` si lo estamos haciendo en Colab."
      ]
    },
    {
      "cell_type": "code",
      "execution_count": null,
      "id": "bdce4f9e",
      "metadata": {
        "id": "bdce4f9e"
      },
      "outputs": [],
      "source": [
        "import os\n",
        "db_hostname: str = \"localhost\" if RunningInCOLAB else os.getenv('DB_HOSTNAME', \"mongo\")"
      ]
    },
    {
      "cell_type": "code",
      "execution_count": null,
      "id": "a6f8c8b7",
      "metadata": {
        "id": "a6f8c8b7"
      },
      "outputs": [],
      "source": [
        "from typing import Any\n",
        "\n",
        "client: MongoClient[dict[str, Any]] = MongoClient(db_hostname,27017)\n",
        "client"
      ]
    },
    {
      "cell_type": "code",
      "execution_count": null,
      "id": "caa3fe2e",
      "metadata": {
        "id": "caa3fe2e"
      },
      "outputs": [],
      "source": [
        "client.list_database_names()"
      ]
    },
    {
      "cell_type": "markdown",
      "id": "f6ab2cd8",
      "metadata": {
        "id": "f6ab2cd8"
      },
      "source": [
        "Las bases de datos se crean conforme se nombran. Se puede utilizar la notación punto o la de diccionario. Las colecciones también."
      ]
    },
    {
      "cell_type": "code",
      "execution_count": null,
      "id": "2fde54b3",
      "metadata": {
        "id": "2fde54b3"
      },
      "outputs": [],
      "source": [
        "from pymongo.database import Database\n",
        "\n",
        "db: Database[dict[str,Any]] = client.stackoverflow\n",
        "# db: Database = client['stackoverflow'] # (equivalente)\n",
        "db"
      ]
    },
    {
      "cell_type": "markdown",
      "id": "928a2882",
      "metadata": {
        "id": "928a2882"
      },
      "source": [
        "## Importación de los ficheros CSV\n",
        "\n",
        "Por ahora creamos una colección diferente para cada uno. Después estudiaremos cómo poder optimizar el acceso usando agregación."
      ]
    },
    {
      "cell_type": "code",
      "execution_count": null,
      "id": "95921ddf",
      "metadata": {
        "id": "95921ddf"
      },
      "outputs": [],
      "source": [
        "import csv\n",
        "import sys\n",
        "from datetime import datetime\n",
        "from pymongo.collection import Collection\n",
        "from typing import Any\n",
        "from collections.abc import Callable, Iterable, Iterator\n",
        "from tqdm.notebook import tqdm\n",
        "\n",
        "def batched(iterable: Iterable, n) -> Iterable:\n",
        "    from itertools import islice\n",
        "    if n < 1:\n",
        "        raise ValueError('n must be at least one')\n",
        "    it: Iterator = iter(iterable)\n",
        "    while batch := tuple(islice(it, n)):\n",
        "        yield batch\n",
        "\n",
        "def csv_to_mongo(file: str, coll: Collection):\n",
        "    \"\"\"\n",
        "    Carga un fichero CSV en Mongo. file especifica el fichero, coll la colección\n",
        "    dentro de la base de datos, y date_cols las columnas que serán interpretadas\n",
        "    como fechas.\n",
        "    \"\"\"\n",
        "    # Convertir todos los elementos que se puedan a números\n",
        "    def to_numeric(d: str) -> str| int | float:\n",
        "        if len(d) == 0:\n",
        "            return ''\n",
        "        if not ((d[0] >= '0' and d[0] <= '9') or d[0] == '-' or d[0] == '+' or d[0]=='.'):\n",
        "            return d\n",
        "        try:\n",
        "            return int(d) if abs(int(d)) <= sys.maxsize else d # Ensure number is inside MongoDB max number range\n",
        "        except ValueError:\n",
        "            try:\n",
        "                return float(d)\n",
        "            except ValueError:\n",
        "                return d\n",
        "\n",
        "    def to_date(d: str) -> datetime | None:\n",
        "        \"\"\"To ISO Date. If this cannot be converted, return NULL (None)\"\"\"\n",
        "        try:\n",
        "            return datetime.strptime(d, \"%Y-%m-%dT%H:%M:%S.%f\")\n",
        "        except ValueError:\n",
        "            return None\n",
        "\n",
        "    coll.drop()\n",
        "\n",
        "    with open(file, encoding='utf-8') as f:\n",
        "        # La llamada csv.reader() crea un iterador sobre un fichero CSV\n",
        "        reader = csv.reader(f, dialect='excel')\n",
        "\n",
        "        # Se leen las columnas. Sus nombres se usarán para crear las diferentes columnas en la familia\n",
        "        columns: list[str] = next(reader)\n",
        "\n",
        "        # Las columnas que contienen 'Date' se interpretan como fechas\n",
        "        func_to_cols: list[Callable[[str], Any]] = list(map(lambda c: to_date if 'date' in c.lower() else to_numeric, columns))\n",
        "\n",
        "        for batch in batched(tqdm(reader, desc='Leyendo e insertando filas...'), 10000):\n",
        "            docs: list[dict[str, str | datetime | float | int | None]] = []\n",
        "            for row in batch:\n",
        "                built_row: list[str | datetime | float | int | None] = [func(e) for (func,e) in zip(func_to_cols, row)]\n",
        "                docs.append(dict(zip(columns, built_row)))\n",
        "            coll.insert_many(docs)\n",
        "\n",
        "        print(\"¡Hecho!\")"
      ]
    },
    {
      "cell_type": "code",
      "execution_count": null,
      "id": "9aa429cc",
      "metadata": {
        "id": "9aa429cc"
      },
      "outputs": [],
      "source": [
        "csv_to_mongo('Posts.csv',db.posts)"
      ]
    },
    {
      "cell_type": "code",
      "execution_count": null,
      "id": "313840a9",
      "metadata": {
        "id": "313840a9"
      },
      "outputs": [],
      "source": [
        "csv_to_mongo('Users.csv',db.users)"
      ]
    },
    {
      "cell_type": "code",
      "execution_count": null,
      "id": "f16045de",
      "metadata": {
        "id": "f16045de"
      },
      "outputs": [],
      "source": [
        "csv_to_mongo('Votes.csv',db.votes)"
      ]
    },
    {
      "cell_type": "code",
      "execution_count": null,
      "id": "8af0b636",
      "metadata": {
        "id": "8af0b636"
      },
      "outputs": [],
      "source": [
        "csv_to_mongo('Comments.csv',db.comments)"
      ]
    },
    {
      "cell_type": "code",
      "execution_count": null,
      "id": "78937741",
      "metadata": {
        "id": "78937741"
      },
      "outputs": [],
      "source": [
        "csv_to_mongo('Tags.csv',db.tags)"
      ]
    },
    {
      "cell_type": "code",
      "execution_count": null,
      "id": "ce9b2801",
      "metadata": {
        "id": "ce9b2801"
      },
      "outputs": [],
      "source": [
        "posts: Collection[dict[str,Any]] = db.posts\n",
        "posts"
      ]
    },
    {
      "cell_type": "code",
      "execution_count": null,
      "id": "7010016c",
      "metadata": {
        "id": "7010016c"
      },
      "outputs": [],
      "source": [
        "posts.count_documents({})"
      ]
    },
    {
      "cell_type": "markdown",
      "id": "bd06d71a",
      "metadata": {
        "id": "bd06d71a"
      },
      "source": [
        "### El API de colección de MongoDB\n",
        "\n",
        "El API de colección en Python se puede encontrar aquí: https://docs.mongodb.com/drivers/pymongo/. La mayoría de libros y referencias muestran el uso de mongo desde Javascript, ya que el *shell* de MongoDB acepta ese lenguaje. La sintaxis con respecto a Python cambia un poco, y se puede seguir en el enlace anterior. Existe incluso un curso de la MongoDB University que se puede realizar de forma gratuita: https://learn.mongodb.com/learning-paths/using-mongodb-with-python"
      ]
    },
    {
      "cell_type": "markdown",
      "id": "399e2e23",
      "metadata": {
        "id": "399e2e23"
      },
      "source": [
        "## Framework de Agregación\n",
        "\n",
        "Framework de agregación:\n",
        "- Aquí está la referencia de las diferentes etapas por las que puede pasar un pipeline: https://www.mongodb.com/docs/manual/reference/operator/aggregation-pipeline/.\n",
        "- Y aquí los distintos operadores que se permiten dentro de las etapas: https://docs.mongodb.com/manual/reference/operator/aggregation/.\n",
        "- Y aquí incluso un libro completo con usos prácticos de ejecutar agregación: https://www.practical-mongodb-aggregations.com/.\n",
        "\n",
        "A continuación otro vídeo interseante:"
      ]
    },
    {
      "cell_type": "code",
      "execution_count": null,
      "id": "8d6b3658",
      "metadata": {
        "id": "8d6b3658"
      },
      "outputs": [],
      "source": [
        "from IPython.display import YouTubeVideo\n",
        "YouTubeVideo('VSX4a3h4SmQ',width=600)"
      ]
    },
    {
      "cell_type": "markdown",
      "id": "89f1cb97",
      "metadata": {
        "id": "89f1cb97"
      },
      "source": [
        "![](https://miro.medium.com/max/1060/1*2lDBxvZ8Cr3JYkoODTa0lQ.png)"
      ]
    },
    {
      "cell_type": "markdown",
      "id": "cd87b10d",
      "metadata": {
        "id": "cd87b10d"
      },
      "source": [
        "Proyección: el operador `$project` permite filtar qué campos de los documentos queremos usar en la siguientes fases de agregación."
      ]
    },
    {
      "cell_type": "code",
      "execution_count": null,
      "id": "7577523d",
      "metadata": {
        "id": "7577523d"
      },
      "outputs": [],
      "source": [
        "from pymongo.command_cursor import CommandCursor\n",
        "\n",
        "respuestas: CommandCursor[dict[str,Any]] = db['posts'].aggregate( [\n",
        "    {'$project' : { 'Id' : True }},\n",
        "    {'$limit': 20} ])\n",
        "list(respuestas)"
      ]
    },
    {
      "cell_type": "markdown",
      "id": "dfaa7a9c",
      "metadata": {
        "id": "dfaa7a9c"
      },
      "source": [
        "_Lookup_! El operador `$lookup` permite realizar búsquedas en otras colecciones. Podrían interpretarse como un `join` en el modelo relacional."
      ]
    },
    {
      "cell_type": "code",
      "execution_count": null,
      "id": "93397b58",
      "metadata": {
        "id": "93397b58",
        "scrolled": true
      },
      "outputs": [],
      "source": [
        "respuestas: CommandCursor[dict[str,Any]] = posts.aggregate( [\n",
        "        {'$match': { 'Score' : {'$gte': 150}}},\n",
        "        {'$lookup': {\n",
        "            'from': \"users\",\n",
        "            'localField': \"OwnerUserId\",\n",
        "            'foreignField': \"Id\",\n",
        "            'as': \"owner\"}\n",
        "        }\n",
        "        ])\n",
        "list(respuestas)"
      ]
    },
    {
      "cell_type": "markdown",
      "id": "9c3b65a5",
      "metadata": {
        "id": "9c3b65a5"
      },
      "source": [
        "El `$lookup` genera un _array_ con todos los resultados. El operador `$arrayElementAt` accede al primer elemento."
      ]
    },
    {
      "cell_type": "code",
      "execution_count": null,
      "id": "69d6a600",
      "metadata": {
        "id": "69d6a600"
      },
      "outputs": [],
      "source": [
        "respuestas: CommandCursor[dict[str,Any]] = db.posts.aggregate( [\n",
        "        {'$match': { 'Score' : {'$gte': 150}}},\n",
        "        {'$lookup': {\n",
        "            'from': \"users\",\n",
        "            'localField': \"OwnerUserId\",\n",
        "            'foreignField': \"Id\",\n",
        "            'as': \"owner\"}\n",
        "        },\n",
        "        { '$project' : {\n",
        "            'Id' : True,\n",
        "            'Score' : True,\n",
        "            'username' : {'$arrayElemAt' : ['$owner.DisplayName', 0]},\n",
        "            'owner.DisplayName' : True\n",
        "          }}\n",
        "        ])\n",
        "list(respuestas)"
      ]
    },
    {
      "cell_type": "markdown",
      "id": "4e66cfba",
      "metadata": {
        "id": "4e66cfba"
      },
      "source": [
        "`$unwind` también puede usarse. \"Desdobla\" cada fila por cada elemento del array. En este caso, como sabemos que el array sólo contiene un elemento, sólo habrá una fila por fila original, pero sin el _array_. Finalmente se puede proyectar el campo que se quiera. Volvemos a proyectar los campos anteriores para comprobar las diferencias."
      ]
    },
    {
      "cell_type": "code",
      "execution_count": null,
      "id": "7d23bad9",
      "metadata": {
        "id": "7d23bad9"
      },
      "outputs": [],
      "source": [
        "respuestas: CommandCursor[dict[str,Any]] = db.posts.aggregate( [\n",
        "        { '$match': { 'Score' : {'$gte': 150}}},\n",
        "        { '$lookup': {\n",
        "            'from': \"users\",\n",
        "            'localField': \"OwnerUserId\",\n",
        "            'foreignField': \"Id\",\n",
        "            'as': \"owner\"\n",
        "          }\n",
        "        },\n",
        "        { '$unwind': '$owner'},\n",
        "        { '$project' : {\n",
        "            'Id' : True,\n",
        "            'Score' : True,\n",
        "            'username': '$owner.DisplayName',\n",
        "            'owner.DisplayName' : True\n",
        "          }\n",
        "        }\n",
        "        ])\n",
        "list(respuestas)"
      ]
    },
    {
      "cell_type": "markdown",
      "id": "bcf9f2dc",
      "metadata": {
        "id": "bcf9f2dc"
      },
      "source": [
        "Repetimos la consulta anterior, pero proyectando solamente el campo 'username'."
      ]
    },
    {
      "cell_type": "code",
      "execution_count": null,
      "id": "7e777773",
      "metadata": {
        "id": "7e777773"
      },
      "outputs": [],
      "source": [
        "respuestas: CommandCursor[dict[str,Any]] = db.posts.aggregate( [\n",
        "        { '$match': { 'Score' : {'$gte': 150}}},\n",
        "        { '$lookup': {\n",
        "            'from': \"users\",\n",
        "            'localField': \"OwnerUserId\",\n",
        "            'foreignField': \"Id\",\n",
        "            'as': \"owner\"\n",
        "          }\n",
        "        },\n",
        "        { '$unwind': '$owner'},\n",
        "        { '$project' : {\n",
        "            'username': '$owner.DisplayName',\n",
        "          }\n",
        "        }\n",
        "        ])\n",
        "list(respuestas)"
      ]
    },
    {
      "cell_type": "markdown",
      "id": "1b899823",
      "metadata": {
        "id": "1b899823"
      },
      "source": [
        "Veamos cómo se ha realizado la consulta anterior. Para ello usamos la opción `explain`. En el campo `strategy` que se ha usado `NestedLoopJoin`. Para cada documento en `posts`, busca ''manualmente'' en `users` los documentos que coincidan con `OwnerUserId`."
      ]
    },
    {
      "cell_type": "code",
      "execution_count": null,
      "id": "4c70a7d7",
      "metadata": {
        "id": "4c70a7d7"
      },
      "outputs": [],
      "source": [
        "db.command('aggregate', 'posts', pipeline= [\n",
        "  { '$match': { 'Score' : {'$gte': 150}}},\n",
        "  { '$lookup': {\n",
        "      'from': \"users\",\n",
        "      'localField': \"OwnerUserId\",\n",
        "      'foreignField': \"Id\",\n",
        "      'as': \"owner\"\n",
        "    }\n",
        "  },\n",
        "  { '$unwind': '$owner'},\n",
        "  { '$project': {\n",
        "      'username': '$owner.DisplayName',\n",
        "\n",
        "     }\n",
        "  }\n",
        "  ],\n",
        "  explain = True\n",
        ")"
      ]
    },
    {
      "cell_type": "markdown",
      "id": "5faf9fa9",
      "metadata": {
        "id": "5faf9fa9"
      },
      "source": [
        "## Definición de índices\n",
        "\n",
        "Las consultas anteriores no se han podido realizar, ya que el uso de `$lookup` (equivalente a un JOIN de SQL) hace que se tenga que buscar en toda la colección usuarios para encontrar el usuario con `Id` especificado por `OwnerUserId`. Vamos a probarlas sin limitación después de crear un índice.\n"
      ]
    },
    {
      "cell_type": "code",
      "execution_count": null,
      "id": "9d7f5fbe",
      "metadata": {
        "id": "9d7f5fbe"
      },
      "outputs": [],
      "source": [
        "from pymongo import HASHED\n",
        "\n",
        "db.users.create_index(['Id', HASHED])"
      ]
    },
    {
      "cell_type": "code",
      "execution_count": null,
      "id": "8787917f",
      "metadata": {
        "id": "8787917f"
      },
      "outputs": [],
      "source": [
        "respuestas: CommandCursor[dict[str,Any]] = db.posts.aggregate( [\n",
        "  { '$match': { 'Score' : {'$gte': 150}}},\n",
        "  { '$lookup': {\n",
        "      'from': \"users\",\n",
        "      'localField': \"OwnerUserId\",\n",
        "      'foreignField': \"Id\",\n",
        "      'as': \"owner\"\n",
        "    }\n",
        "  },\n",
        "  { '$unwind': '$owner'},\n",
        "  { '$project' : {\n",
        "        'username': '$owner.DisplayName'\n",
        "    }\n",
        "  }\n",
        "  ])\n",
        "list(respuestas)"
      ]
    },
    {
      "cell_type": "markdown",
      "id": "808521d5",
      "metadata": {
        "id": "808521d5"
      },
      "source": [
        "Veamos cómo se ha usado el índice en la consulta (no se incluye la consulta entera porque el explain no lo termina de hacer bien si hay muchos pasos). De nuevo usamos la opción `explain`. En el campo `strategy` que se ha usado `IndexedLoopJoin`. En este caso se utiliza el índice creado en `users` para hacer la búsqueda de una forma más rápida y eficiente."
      ]
    },
    {
      "cell_type": "code",
      "execution_count": null,
      "id": "e114d223",
      "metadata": {
        "id": "e114d223"
      },
      "outputs": [],
      "source": [
        "db.command('aggregate', 'posts', pipeline= [\n",
        "  { '$match': { 'Score' : {'$gte': 150}}},\n",
        "  { '$lookup': {\n",
        "      'from': \"users\",\n",
        "      'localField': \"OwnerUserId\",\n",
        "      'foreignField': \"Id\",\n",
        "      'as': \"owner\"\n",
        "    }\n",
        "  }],\n",
        "  explain = True\n",
        ")"
      ]
    },
    {
      "cell_type": "markdown",
      "id": "61ec3d79",
      "metadata": {
        "id": "61ec3d79"
      },
      "source": [
        "Calculemos la media de puntuación por usuario:"
      ]
    },
    {
      "cell_type": "code",
      "execution_count": null,
      "id": "f1b68971",
      "metadata": {
        "id": "f1b68971"
      },
      "outputs": [],
      "source": [
        "media_puntuación_usuarios: CommandCursor[dict[str,Any]] = db.posts.aggregate([\n",
        "    {\n",
        "        '$group': {\n",
        "            '_id': '$OwnerUserId',\n",
        "            'media_puntuación': { '$avg':  '$Score' }\n",
        "            }\n",
        "    },\n",
        "    { '$limit': 100 }\n",
        "    ])\n",
        "list(media_puntuación_usuarios)"
      ]
    },
    {
      "cell_type": "markdown",
      "id": "0cd89f48",
      "metadata": {
        "id": "0cd89f48"
      },
      "source": [
        "Calculemos el máximo y mínimo de puntuación de cada usuario:"
      ]
    },
    {
      "cell_type": "code",
      "execution_count": null,
      "id": "813c52ba",
      "metadata": {
        "id": "813c52ba"
      },
      "outputs": [],
      "source": [
        "max_min_puntuación_usuarios: CommandCursor[dict[str,Any]] = db.posts.aggregate([\n",
        "    {\n",
        "        '$group': {\n",
        "            '_id': '$OwnerUserId',\n",
        "            'media_puntuación': { '$avg':  '$Score' },\n",
        "            'min': { '$min':  '$Score' },\n",
        "            'max': { '$max' : \"$Score\"}\n",
        "        }\n",
        "    },\n",
        "    { '$limit': 100 }\n",
        "    ])\n",
        "list(max_min_puntuación_usuarios)"
      ]
    },
    {
      "cell_type": "markdown",
      "id": "b440d121",
      "metadata": {
        "id": "b440d121"
      },
      "source": [
        "Pasemos ahora a trabajar con la colección Votes. Antes de empezar, veamos las primeras líneas del fichero `Votes.csv`:"
      ]
    },
    {
      "cell_type": "code",
      "execution_count": null,
      "id": "b1083428",
      "metadata": {
        "id": "b1083428"
      },
      "outputs": [],
      "source": [
        "!head Votes.csv"
      ]
    },
    {
      "cell_type": "markdown",
      "id": "9c9a247d",
      "metadata": {
        "id": "9c9a247d"
      },
      "source": [
        "Podemos comprobar que todos los posts tienen los votos correctos contando los votos positivos (`VoteTypeId=2`) y negativos (`VoteTypeId=3`).\n",
        "\n",
        "Primero, calcular el resultado de cada voto. Nótese cómo haciendo uso de `$cond` se puede aplicar una condición `if` para sumar o restar dependiendo del tipo del voto.\n",
        "\n",
        "Después lo comprobaremos con los existentes en Posts."
      ]
    },
    {
      "cell_type": "code",
      "execution_count": null,
      "id": "f073cfc5",
      "metadata": {
        "id": "f073cfc5"
      },
      "outputs": [],
      "source": [
        "score_by_post: CommandCursor[dict[str,Any]] = db.votes.aggregate([\n",
        "    { \"$match\" : {\"$or\" : [ {\"VoteTypeId\" : 2},\n",
        "                            {\"VoteTypeId\" : 3}]\n",
        "                  }\n",
        "    },\n",
        "    {\n",
        "        '$group': {\n",
        "            '_id': '$PostId',\n",
        "            'score': { '$sum': { \"$cond\": {\n",
        "                                            \"if\" : { \"$eq\" : [ \"$VoteTypeId\", 2 ]},\n",
        "                                            \"then\" : 1,\n",
        "                                            \"else\" : -1\n",
        "                                          }} }\n",
        "        }\n",
        "    },\n",
        "    { '$limit' : 20}\n",
        "    ])\n",
        "list(score_by_post)"
      ]
    },
    {
      "cell_type": "markdown",
      "id": "46983203",
      "metadata": {
        "id": "46983203"
      },
      "source": [
        "Y después comparado con lo que hay en los Posts. La consulta, como se puede ver, sacará sólo los elementos en donde los votos en `Votes` no coincide con `Posts` (debe ser vacío). Nótese el uso de la nueva construcción `$expr`, que permite añadir expresiones dentro de la consulta.\n",
        "\n",
        "**CUIDADO** Si no se define el índice correcto, la consulta tarda mucho. ¿Cuál?"
      ]
    },
    {
      "cell_type": "code",
      "execution_count": null,
      "id": "432bf0c1",
      "metadata": {
        "id": "432bf0c1"
      },
      "outputs": [],
      "source": [
        "# Creación del índice secreto... ¿cuál?\n",
        "import zlib\n",
        "secret_code = b'x\\x9cKI\\xd2+\\xc8/.)\\xd6K.JM,I\\x8d\\xcf\\xccKI\\xad\\xd0\\x88V\\xf7LQ\\xd7Q\\xf0p\\x0c\\xf6pu\\x89\\xd5\\x04\\x00\\xfe`\\x0cD'\n",
        "eval(zlib.decompress(secret_code).decode())"
      ]
    },
    {
      "cell_type": "code",
      "execution_count": null,
      "id": "a66f66e8",
      "metadata": {
        "id": "a66f66e8"
      },
      "outputs": [],
      "source": [
        "score_by_post_comp: CommandCursor[dict[str,Any]] = db.votes.aggregate([\n",
        "    { \"$match\" : {\"$or\" : [ {\"VoteTypeId\" : 2},\n",
        "                            {\"VoteTypeId\" : 3}]\n",
        "                  }\n",
        "    },\n",
        "    {\n",
        "        '$group': {\n",
        "            '_id': '$PostId',\n",
        "            'score': { '$sum': { \"$cond\" : {\n",
        "                                            \"if\" : { \"$eq\" : [ \"$VoteTypeId\", 2 ]},\n",
        "                                            \"then\" : 1,\n",
        "                                            \"else\" : -1\n",
        "                                           }}}\n",
        "        }\n",
        "    },\n",
        "    {\n",
        "        \"$lookup\": {\n",
        "            'from': \"posts\",\n",
        "            'localField': \"_id\",\n",
        "            'foreignField': \"Id\",\n",
        "            'as': \"post\"\n",
        "        }\n",
        "    },\n",
        "    { \"$unwind\" : \"$post\"},\n",
        "    {\n",
        "        \"$match\" : {'$expr' : {'$ne' : [ '$score', '$post.Score']}}\n",
        "    }\n",
        "])\n",
        "list(score_by_post_comp)"
      ]
    },
    {
      "cell_type": "markdown",
      "id": "67e983c5",
      "metadata": {
        "id": "67e983c5"
      },
      "source": [
        "### Ejemplo de realización de una consulta de reciprocidad"
      ]
    },
    {
      "cell_type": "markdown",
      "id": "36f55511",
      "metadata": {
        "id": "36f55511"
      },
      "source": [
        "Como ejemplo de consulta compleja con el Framework de Agregación, adjunto una posible solución a la consulta siguiente: ¿Hay usuarios que hacen preguntas y son respondidos por otros usuarios que a su vez preguntaron y fueron respondidos por los primeros? (Es decir, ¿hay reciprocidad en las interacciones en Stacokverflow español?)"
      ]
    },
    {
      "cell_type": "code",
      "execution_count": null,
      "id": "104c5ea4",
      "metadata": {
        "id": "104c5ea4",
        "scrolled": true
      },
      "outputs": [],
      "source": [
        "RQ4: CommandCursor[dict[str,Any]] = db.posts.aggregate( [\n",
        "        { \"$match\" : {\"PostTypeId\": 2}},\n",
        "        { '$lookup': {\n",
        "            'from': \"posts\",\n",
        "            'localField': \"ParentId\",\n",
        "            'foreignField': \"Id\",\n",
        "            'as': \"question\"\n",
        "          }\n",
        "        },\n",
        "\n",
        "        { '$unwind' : '$question' },\n",
        "\n",
        "        { '$project' : {\n",
        "            'OwnerUserId': True,\n",
        "            'OP' : '$question.OwnerUserId'\n",
        "          }\n",
        "        },\n",
        "        { '$group' : {'_id' : {'min' : { '$min' : ['$OwnerUserId' , '$OP'] },\n",
        "                               'max' : { '$max' : ['$OwnerUserId' , '$OP'] }},\n",
        "                      'pairs' : {'$addToSet' : { '0q': '$OP', '1a': '$OwnerUserId'}}\n",
        "          }\n",
        "        },\n",
        "        { '$project': {\n",
        "            'pairs' : True,\n",
        "            'npairs' : { '$size' : '$pairs'}\n",
        "          }\n",
        "        },\n",
        "        { '$match' : { 'npairs' : { '$eq' : 2}} }\n",
        "    ])\n",
        "RQ4 = list(RQ4)\n",
        "RQ4"
      ]
    },
    {
      "cell_type": "markdown",
      "id": "9a79b18a",
      "metadata": {
        "id": "9a79b18a"
      },
      "source": [
        "En el caso de que queramos tener como referencia las preguntas y respuestas a las que se refiere la conversación, se puede añadir un campo más que guarde todas las preguntas junto con sus respuestas consideradas:"
      ]
    },
    {
      "cell_type": "code",
      "execution_count": null,
      "id": "c632aac7",
      "metadata": {
        "id": "c632aac7",
        "scrolled": true
      },
      "outputs": [],
      "source": [
        "RQ4: CommandCursor[dict[str,Any]] = db.posts.aggregate( [\n",
        "        { '$match': { 'PostTypeId' : 2}},\n",
        "        { '$lookup': {\n",
        "            'from': \"posts\",\n",
        "            'localField': \"ParentId\",\n",
        "            'foreignField': \"Id\",\n",
        "            'as': \"question\"\n",
        "          }\n",
        "        },\n",
        "\n",
        "        { '$unwind' : '$question' },\n",
        "\n",
        "        { '$project' : {\n",
        "            'OwnerUserId': True,\n",
        "            'QId' : '$question.Id',\n",
        "            'AId' : '$Id',\n",
        "            'OP' : '$question.OwnerUserId'\n",
        "          }\n",
        "        },\n",
        "        { '$group' : {'_id' : {'min' : { '$min' : ['$OwnerUserId' , '$OP'] },\n",
        "                               'max' : { '$max' : ['$OwnerUserId' , '$OP'] }},\n",
        "                      'pairs' : {'$addToSet' : { '0q':'$OP', '1a': '$OwnerUserId'}},\n",
        "                      'considered_pairs' : { '$push' : {'QId' : '$QId', 'AId' : '$AId'}}\n",
        "          }\n",
        "        },\n",
        "        { '$project': {\n",
        "            'pairs' : True,\n",
        "            'npairs' : { '$size' : '$pairs'},\n",
        "            'considered_pairs' : True\n",
        "          }\n",
        "        },\n",
        "        { '$match' : { 'npairs' : { '$eq' : 2}} }\n",
        "    ])\n",
        "RQ4 = list(RQ4)\n",
        "RQ4"
      ]
    },
    {
      "cell_type": "markdown",
      "id": "11de2402",
      "metadata": {
        "id": "11de2402"
      },
      "source": [
        "Comprobemos ahora cuatro entradas que están relacionadas dos a dos."
      ]
    },
    {
      "cell_type": "code",
      "execution_count": null,
      "id": "8fbdfa12",
      "metadata": {
        "id": "8fbdfa12"
      },
      "outputs": [],
      "source": [
        "(db.posts.find_one({'Id': 238}), db.posts.find_one({'Id': 243}),\n",
        "db.posts.find_one({'Id': 222}), db.posts.find_one({'Id': 223}))"
      ]
    },
    {
      "cell_type": "markdown",
      "id": "c1cc33e2",
      "metadata": {
        "id": "c1cc33e2"
      },
      "source": [
        "### Ejemplo de consulta: Tiempo medio desde que se hace una pregunta hasta que se le da la primera respuesta\n",
        "\n",
        "Veamos cómo calcular el tiempo medio desde que se hace una pregunta hasta que se le da la primera respuesta. No se considerarán pues las preguntas que no tienen respuesta, lo cual es razonable."
      ]
    },
    {
      "cell_type": "markdown",
      "id": "47cbb833",
      "metadata": {
        "id": "47cbb833"
      },
      "source": [
        "Esto sólo calcula el tiempo mínimo de cada pregunta a su respuesta. Después se añadirá el código que calcula la media final:"
      ]
    },
    {
      "cell_type": "code",
      "execution_count": null,
      "id": "12d2e2a6",
      "metadata": {
        "id": "12d2e2a6"
      },
      "outputs": [],
      "source": [
        "min_answer_time: CommandCursor[dict[str,Any]] = db.posts.aggregate([\n",
        "    { \"$match\" : {\"PostTypeId\" : 2} },\n",
        "    { '$group' : {\n",
        "        '_id' : '$ParentId',\n",
        "        # 'answers' : { '$push' : {'Id' : \"$Id\", 'CreationDate' : \"$CreationDate\"}},\n",
        "        'min' : {'$min' : \"$CreationDate\"}\n",
        "      }\n",
        "    },\n",
        "    { \"$lookup\" : {\n",
        "        'from': \"posts\",\n",
        "        'localField': \"_id\",\n",
        "        'foreignField': \"Id\",\n",
        "        'as': \"post\"}\n",
        "    },\n",
        "    { \"$unwind\" : \"$post\"},\n",
        "    { \"$project\" : {\n",
        "        \"_id\" : True,\n",
        "        \"min\" : True,\n",
        "        \"diff\" : {\"$subtract\" : [\"$min\", \"$post.CreationDate\"]}\n",
        "      }\n",
        "    }\n",
        "])\n",
        "min_answer_time = list(min_answer_time)\n",
        "min_answer_time"
      ]
    },
    {
      "cell_type": "markdown",
      "id": "35d11bc4",
      "metadata": {
        "id": "35d11bc4"
      },
      "source": [
        "La siguiente consulta sí calcula la media:"
      ]
    },
    {
      "cell_type": "code",
      "execution_count": null,
      "id": "a412d91a",
      "metadata": {
        "id": "a412d91a"
      },
      "outputs": [],
      "source": [
        "avg_answer_time: CommandCursor[dict[str,Any]] = db.posts.aggregate([\n",
        "    { \"$match\" : {\"PostTypeId\" : 2} },\n",
        "    { '$group' : {\n",
        "        '_id' : '$ParentId',\n",
        "        # 'answers' : { '$push' : {'Id' : \"$Id\", 'CreationDate' : \"$CreationDate\"}},\n",
        "        'min' : {'$min' : \"$CreationDate\"}\n",
        "      }\n",
        "    },\n",
        "    { \"$lookup\" : {\n",
        "        'from': \"posts\",\n",
        "        'localField': \"_id\",\n",
        "        'foreignField': \"Id\",\n",
        "        'as': \"post\"}\n",
        "    },\n",
        "    { \"$unwind\" : \"$post\"},\n",
        "    { \"$project\" : {\n",
        "        \"_id\" : True,\n",
        "        \"min\" : True,\n",
        "        \"diff\" : {\"$subtract\" : [\"$min\", \"$post.CreationDate\"]}\n",
        "      }\n",
        "    },\n",
        "    #    { \"$sort\" : {'_id' : 1} }\n",
        "    {\n",
        "      \"$group\" :  {\n",
        "        \"_id\" : None,\n",
        "        \"avg\" : { \"$avg\" : \"$diff\"}\n",
        "      }\n",
        "    }\n",
        "])\n",
        "avg_answer_time = list(avg_answer_time)\n",
        "avg_answer_time"
      ]
    },
    {
      "cell_type": "markdown",
      "id": "48de3c4b",
      "metadata": {
        "id": "48de3c4b"
      },
      "source": [
        "## EJERCICIO 1: Listar aquellos usuarios con una reputación (`Reputation`) superior o igual a 500 y un número de visualizaciones (`Views`) superior a 200. De dichos usuarios solo mostrar los campos:\n",
        "- `DisplayName`\n",
        "- `Location`\n",
        "- `Reputation`\n",
        "- `Views`\n",
        "\n",
        "*IMPORTANTE: No mostrar el campo `_id`*"
      ]
    },
    {
      "cell_type": "markdown",
      "id": "2beeb6d8",
      "metadata": {
        "id": "2beeb6d8"
      },
      "source": [
        "## EJERCICIO 2: Listar todos post que son preguntas y sus votos asociados. Para ello, se permite definir los indices que se consideren adecuados.\n",
        "\n",
        "*Ejemplo*: Suponiendo que el post con `_id` `65e6f1c8d93b356db73e5433` tuviera tres votos asociados, la solución debe devolver una salida de en este formato (nótese que los campos `CreationDate`, `Score` e `_id` se refieren al mismo post):\n",
        "\n",
        "```json\n",
        "{'CreationDate': datetime.datetime(2015, 10, 29, 15, 56, 52, 933000),\n",
        "  'Score': 40,\n",
        "  '_id': ObjectId('65e6f1c8d93b356db73e5433'),\n",
        "  'post_votes': {'VoteTypeId': 2}},\n",
        " {'CreationDate': datetime.datetime(2015, 10, 29, 15, 56, 52, 933000),\n",
        "  'Score': 40,\n",
        "  '_id': ObjectId('65e6f1c8d93b356db73e5433'),\n",
        "  'post_votes': {'VoteTypeId': 2}},\n",
        " {'CreationDate': datetime.datetime(2015, 10, 29, 15, 56, 52, 933000),\n",
        "  'Score': 40,\n",
        "  '_id': ObjectId('65e6f1c8d93b356db73e5433'),\n",
        "  'post_votes': {'VoteTypeId': 16}}\n",
        "```\n"
      ]
    },
    {
      "cell_type": "markdown",
      "id": "8d354793",
      "metadata": {
        "id": "8d354793"
      },
      "source": [
        "## EJERCICIO 3: Listar los nombres de usuarios (campo `DisplayName` de `users`) que tienen más preguntas que respuestas\n",
        "\n",
        "(Contando los usuarios debe salir exactamente 54483 usuarios)."
      ]
    },
    {
      "cell_type": "markdown",
      "id": "a14fba4b",
      "metadata": {
        "id": "a14fba4b"
      },
      "source": [
        "## EJERCICIO 4: Comprobad, de forma similar a los ejemplos anteriores, que el campo `CommentCount` de `Posts` es correcto, comprobándolo con la colección `Comments`. Definid los índices necesarios.\n",
        "\n",
        "El resultado de la consulta de los números de comentarios que difieren debe ser vacío como en el ejemplo de los votos anterior.\n"
      ]
    }
  ],
  "metadata": {
    "colab": {
      "provenance": []
    },
    "kernelspec": {
      "display_name": ".venv",
      "language": "python",
      "name": "python3"
    },
    "language_info": {
      "codemirror_mode": {
        "name": "ipython",
        "version": 3
      },
      "file_extension": ".py",
      "mimetype": "text/x-python",
      "name": "python",
      "nbconvert_exporter": "python",
      "pygments_lexer": "ipython3",
      "version": "3.13.1"
    }
  },
  "nbformat": 4,
  "nbformat_minor": 5
}